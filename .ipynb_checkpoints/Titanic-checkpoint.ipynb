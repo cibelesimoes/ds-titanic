{
 "cells": [
  {
   "cell_type": "markdown",
   "metadata": {},
   "source": [
    "<img src='./img/top.jpg'></img>\n",
    "<h1 align='center'>O DESASTRE DO TITANIC</h1>\n",
    "\n",
    "Quando os tripulantes embarcaram no famoso RMS Titanic em Abril de 1912, é muito provável que eles não esperavam pelo fim trágico do transatlântico que partiu da Inglaterra em direção a Nova Iorque. O gigantesco navio que demorou quatro anos para ficar pronto, <a href='https://pt.wikipedia.org/wiki/RMS_Titanic'>afundou nas águas do Oceano Atlântico em 14 de Abril de 1912 quando colidiu as 23h40 contra um iceberg</a>.\n",
    "\n",
    "Naquela noite, 1514 pessoas morreram, segundo a Junta Comercial Britânica¹. A tragédia serviu como base para a geração de diversas regras para maior segurança marítima, como garantir a presença de mais botes salva-vidas, que exercícios de emergência fossem propriamente realizados e que os equipamentos de rádio em navios comerciais fossem operados ininterruptamente. Para monitorar a presença de icebergs no Atlântico, foi criada a Patrulha Internacional do Gelo, cujo as regulações marítimas são realizadas pela <a href='https://pt.wikipedia.org/wiki/Conven%C3%A7%C3%A3o_Internacional_para_a_Salvaguarda_da_Vida_Humana_no_Mar'>Convenção Internacional para a Salvaguarda da Vida Humana no Mar</a>\n",
    "\n",
    "<h1>Apresentando os dados</h1>\n",
    "\n",
    "Esse estudo estará utilização dados coletados e tratados pela equipe da Udacity, o qual disponibilizou esse dataset <a href='https://www.udacity.com/api/nodes/5420148578/supplemental_media/titanic-datacsv/download'> neste link</a>. Com base nas informações dispostas nesse dataset, realizarei Insights a cerca dos tripulantes e das circunstâncias que envolveram a tragédia. Vale lembrar que tal conjunto de dados não abriga informações de todos os passageiros, mas sim de apenas 891."
   ]
  },
  {
   "cell_type": "markdown",
   "metadata": {},
   "source": [
    "<h1>Perguntas a serem respondidas:</h1>\n",
    "\n",
    "Dentre alguns dos questionamentos que podem ser gerados com estes dados, gostaria de saber a resposta para as seguindas perguntas:\n",
    "<br>\n",
    "<br>\n",
    "<li>Quantas pessoas sobreviveram ao desastre, segundo este <i>dataset</i>. Quantas não sobreviveram?</li>\n",
    "<li>A classe em que o passageiro encontrava-se foi um fator decisivo para a sobrevivência?</li>\n",
    "<li>Qual foi a proporção de homens e mulheres que sobreviveram a tragédia?</li>\n",
    "<li>Será que o número de sobreviventes meninas foi muito maior que os sobreviventes meninos?</li>\n",
    "<li>Quem são os passageiros que não tiveram sua tarifa cobrada? Eles sobreviveram?</li>"
   ]
  },
  {
   "cell_type": "markdown",
   "metadata": {},
   "source": [
    "<h2>Data Cleaning e Data Wrangling</h2>"
   ]
  },
  {
   "cell_type": "code",
   "execution_count": 1,
   "metadata": {},
   "outputs": [],
   "source": [
    "%matplotlib inline\n",
    "import pandas as pd #biblioteca para criação de DataFrames\n",
    "import numpy as np #algebra\n",
    "import seaborn as sns #graficos mais atraentes\n",
    "import matplotlib.pyplot as plt #plotagem\n",
    "import random #seleção de valores aleatórios para plotagem"
   ]
  },
  {
   "cell_type": "code",
   "execution_count": 2,
   "metadata": {},
   "outputs": [
    {
     "name": "stdout",
     "output_type": "stream",
     "text": [
      "Este dataset possui 891 linhas e 12 colunas\n"
     ]
    },
    {
     "data": {
      "text/html": [
       "<div>\n",
       "<table border=\"1\" class=\"dataframe\">\n",
       "  <thead>\n",
       "    <tr style=\"text-align: right;\">\n",
       "      <th></th>\n",
       "      <th>PassengerId</th>\n",
       "      <th>Survived</th>\n",
       "      <th>Pclass</th>\n",
       "      <th>Name</th>\n",
       "      <th>Sex</th>\n",
       "      <th>Age</th>\n",
       "      <th>SibSp</th>\n",
       "      <th>Parch</th>\n",
       "      <th>Ticket</th>\n",
       "      <th>Fare</th>\n",
       "      <th>Cabin</th>\n",
       "      <th>Embarked</th>\n",
       "    </tr>\n",
       "  </thead>\n",
       "  <tbody>\n",
       "    <tr>\n",
       "      <th>0</th>\n",
       "      <td>1</td>\n",
       "      <td>0</td>\n",
       "      <td>3</td>\n",
       "      <td>Braund, Mr. Owen Harris</td>\n",
       "      <td>male</td>\n",
       "      <td>22.0</td>\n",
       "      <td>1</td>\n",
       "      <td>0</td>\n",
       "      <td>A/5 21171</td>\n",
       "      <td>7.2500</td>\n",
       "      <td>NaN</td>\n",
       "      <td>S</td>\n",
       "    </tr>\n",
       "    <tr>\n",
       "      <th>1</th>\n",
       "      <td>2</td>\n",
       "      <td>1</td>\n",
       "      <td>1</td>\n",
       "      <td>Cumings, Mrs. John Bradley (Florence Briggs Th...</td>\n",
       "      <td>female</td>\n",
       "      <td>38.0</td>\n",
       "      <td>1</td>\n",
       "      <td>0</td>\n",
       "      <td>PC 17599</td>\n",
       "      <td>71.2833</td>\n",
       "      <td>C85</td>\n",
       "      <td>C</td>\n",
       "    </tr>\n",
       "    <tr>\n",
       "      <th>2</th>\n",
       "      <td>3</td>\n",
       "      <td>1</td>\n",
       "      <td>3</td>\n",
       "      <td>Heikkinen, Miss. Laina</td>\n",
       "      <td>female</td>\n",
       "      <td>26.0</td>\n",
       "      <td>0</td>\n",
       "      <td>0</td>\n",
       "      <td>STON/O2. 3101282</td>\n",
       "      <td>7.9250</td>\n",
       "      <td>NaN</td>\n",
       "      <td>S</td>\n",
       "    </tr>\n",
       "    <tr>\n",
       "      <th>3</th>\n",
       "      <td>4</td>\n",
       "      <td>1</td>\n",
       "      <td>1</td>\n",
       "      <td>Futrelle, Mrs. Jacques Heath (Lily May Peel)</td>\n",
       "      <td>female</td>\n",
       "      <td>35.0</td>\n",
       "      <td>1</td>\n",
       "      <td>0</td>\n",
       "      <td>113803</td>\n",
       "      <td>53.1000</td>\n",
       "      <td>C123</td>\n",
       "      <td>S</td>\n",
       "    </tr>\n",
       "    <tr>\n",
       "      <th>4</th>\n",
       "      <td>5</td>\n",
       "      <td>0</td>\n",
       "      <td>3</td>\n",
       "      <td>Allen, Mr. William Henry</td>\n",
       "      <td>male</td>\n",
       "      <td>35.0</td>\n",
       "      <td>0</td>\n",
       "      <td>0</td>\n",
       "      <td>373450</td>\n",
       "      <td>8.0500</td>\n",
       "      <td>NaN</td>\n",
       "      <td>S</td>\n",
       "    </tr>\n",
       "  </tbody>\n",
       "</table>\n",
       "</div>"
      ],
      "text/plain": [
       "   PassengerId  Survived  Pclass  \\\n",
       "0            1         0       3   \n",
       "1            2         1       1   \n",
       "2            3         1       3   \n",
       "3            4         1       1   \n",
       "4            5         0       3   \n",
       "\n",
       "                                                Name     Sex   Age  SibSp  \\\n",
       "0                            Braund, Mr. Owen Harris    male  22.0      1   \n",
       "1  Cumings, Mrs. John Bradley (Florence Briggs Th...  female  38.0      1   \n",
       "2                             Heikkinen, Miss. Laina  female  26.0      0   \n",
       "3       Futrelle, Mrs. Jacques Heath (Lily May Peel)  female  35.0      1   \n",
       "4                           Allen, Mr. William Henry    male  35.0      0   \n",
       "\n",
       "   Parch            Ticket     Fare Cabin Embarked  \n",
       "0      0         A/5 21171   7.2500   NaN        S  \n",
       "1      0          PC 17599  71.2833   C85        C  \n",
       "2      0  STON/O2. 3101282   7.9250   NaN        S  \n",
       "3      0            113803  53.1000  C123        S  \n",
       "4      0            373450   8.0500   NaN        S  "
      ]
     },
     "execution_count": 2,
     "metadata": {},
     "output_type": "execute_result"
    }
   ],
   "source": [
    "#leitura do arquivo csv contendo as informações dos tripulantes\n",
    "titanic = pd.read_csv('titanic_data.csv')\n",
    "print('Este dataset possui %s linhas e %s colunas' % (titanic.shape[0], titanic.shape[1]))\n",
    "titanic.head()"
   ]
  },
  {
   "cell_type": "markdown",
   "metadata": {
    "collapsed": true
   },
   "source": [
    "Acima você pode conferir as primeiras linhas do dataset. As informações podem causar certa confusão no primeiro momento, portanto, vamos esclarecer alguns pontos sobre eles, a começar pela remoção de colunas que não usaremos, como a \"PassengerId\", \"Cabin\" e \"Ticket\", que contém informações sobre o código de identidade do passageiro, o número da sua cabine e do seu bilhete, respectivamente. Acredito que essas informações não são pertinentes ao estudo que faremos e sua permanência poderia causar perda de foco."
   ]
  },
  {
   "cell_type": "code",
   "execution_count": 3,
   "metadata": {},
   "outputs": [
    {
     "data": {
      "text/html": [
       "<div>\n",
       "<table border=\"1\" class=\"dataframe\">\n",
       "  <thead>\n",
       "    <tr style=\"text-align: right;\">\n",
       "      <th></th>\n",
       "      <th>Survived</th>\n",
       "      <th>Pclass</th>\n",
       "      <th>Name</th>\n",
       "      <th>Sex</th>\n",
       "      <th>Age</th>\n",
       "      <th>SibSp</th>\n",
       "      <th>Parch</th>\n",
       "      <th>Fare</th>\n",
       "      <th>Embarked</th>\n",
       "    </tr>\n",
       "  </thead>\n",
       "  <tbody>\n",
       "    <tr>\n",
       "      <th>0</th>\n",
       "      <td>0</td>\n",
       "      <td>3</td>\n",
       "      <td>Braund, Mr. Owen Harris</td>\n",
       "      <td>male</td>\n",
       "      <td>22.0</td>\n",
       "      <td>1</td>\n",
       "      <td>0</td>\n",
       "      <td>7.2500</td>\n",
       "      <td>S</td>\n",
       "    </tr>\n",
       "    <tr>\n",
       "      <th>1</th>\n",
       "      <td>1</td>\n",
       "      <td>1</td>\n",
       "      <td>Cumings, Mrs. John Bradley (Florence Briggs Th...</td>\n",
       "      <td>female</td>\n",
       "      <td>38.0</td>\n",
       "      <td>1</td>\n",
       "      <td>0</td>\n",
       "      <td>71.2833</td>\n",
       "      <td>C</td>\n",
       "    </tr>\n",
       "    <tr>\n",
       "      <th>2</th>\n",
       "      <td>1</td>\n",
       "      <td>3</td>\n",
       "      <td>Heikkinen, Miss. Laina</td>\n",
       "      <td>female</td>\n",
       "      <td>26.0</td>\n",
       "      <td>0</td>\n",
       "      <td>0</td>\n",
       "      <td>7.9250</td>\n",
       "      <td>S</td>\n",
       "    </tr>\n",
       "    <tr>\n",
       "      <th>3</th>\n",
       "      <td>1</td>\n",
       "      <td>1</td>\n",
       "      <td>Futrelle, Mrs. Jacques Heath (Lily May Peel)</td>\n",
       "      <td>female</td>\n",
       "      <td>35.0</td>\n",
       "      <td>1</td>\n",
       "      <td>0</td>\n",
       "      <td>53.1000</td>\n",
       "      <td>S</td>\n",
       "    </tr>\n",
       "    <tr>\n",
       "      <th>4</th>\n",
       "      <td>0</td>\n",
       "      <td>3</td>\n",
       "      <td>Allen, Mr. William Henry</td>\n",
       "      <td>male</td>\n",
       "      <td>35.0</td>\n",
       "      <td>0</td>\n",
       "      <td>0</td>\n",
       "      <td>8.0500</td>\n",
       "      <td>S</td>\n",
       "    </tr>\n",
       "  </tbody>\n",
       "</table>\n",
       "</div>"
      ],
      "text/plain": [
       "   Survived  Pclass                                               Name  \\\n",
       "0         0       3                            Braund, Mr. Owen Harris   \n",
       "1         1       1  Cumings, Mrs. John Bradley (Florence Briggs Th...   \n",
       "2         1       3                             Heikkinen, Miss. Laina   \n",
       "3         1       1       Futrelle, Mrs. Jacques Heath (Lily May Peel)   \n",
       "4         0       3                           Allen, Mr. William Henry   \n",
       "\n",
       "      Sex   Age  SibSp  Parch     Fare Embarked  \n",
       "0    male  22.0      1      0   7.2500        S  \n",
       "1  female  38.0      1      0  71.2833        C  \n",
       "2  female  26.0      0      0   7.9250        S  \n",
       "3  female  35.0      1      0  53.1000        S  \n",
       "4    male  35.0      0      0   8.0500        S  "
      ]
     },
     "execution_count": 3,
     "metadata": {},
     "output_type": "execute_result"
    }
   ],
   "source": [
    "#removendo colunas que não serão utilizadas\n",
    "titanic.drop(['Ticket','Cabin','PassengerId'], axis=1, inplace = True)\n",
    "titanic.head()"
   ]
  },
  {
   "cell_type": "markdown",
   "metadata": {},
   "source": [
    "Colunas removidas. Para deixar as informações mais claras a qualquer leitor, irei renomear as colunas remanescentes."
   ]
  },
  {
   "cell_type": "code",
   "execution_count": 4,
   "metadata": {},
   "outputs": [
    {
     "data": {
      "text/html": [
       "<div>\n",
       "<table border=\"1\" class=\"dataframe\">\n",
       "  <thead>\n",
       "    <tr style=\"text-align: right;\">\n",
       "      <th></th>\n",
       "      <th>Sobreviveu?</th>\n",
       "      <th>Classe</th>\n",
       "      <th>Nome</th>\n",
       "      <th>Sexo</th>\n",
       "      <th>Idade</th>\n",
       "      <th>Irmãos/Cônjuge</th>\n",
       "      <th>Pais/Crianças</th>\n",
       "      <th>Tarifa</th>\n",
       "      <th>Embarque</th>\n",
       "    </tr>\n",
       "  </thead>\n",
       "  <tbody>\n",
       "    <tr>\n",
       "      <th>0</th>\n",
       "      <td>0</td>\n",
       "      <td>3</td>\n",
       "      <td>Braund, Mr. Owen Harris</td>\n",
       "      <td>male</td>\n",
       "      <td>22.0</td>\n",
       "      <td>1</td>\n",
       "      <td>0</td>\n",
       "      <td>7.2500</td>\n",
       "      <td>S</td>\n",
       "    </tr>\n",
       "    <tr>\n",
       "      <th>1</th>\n",
       "      <td>1</td>\n",
       "      <td>1</td>\n",
       "      <td>Cumings, Mrs. John Bradley (Florence Briggs Th...</td>\n",
       "      <td>female</td>\n",
       "      <td>38.0</td>\n",
       "      <td>1</td>\n",
       "      <td>0</td>\n",
       "      <td>71.2833</td>\n",
       "      <td>C</td>\n",
       "    </tr>\n",
       "    <tr>\n",
       "      <th>2</th>\n",
       "      <td>1</td>\n",
       "      <td>3</td>\n",
       "      <td>Heikkinen, Miss. Laina</td>\n",
       "      <td>female</td>\n",
       "      <td>26.0</td>\n",
       "      <td>0</td>\n",
       "      <td>0</td>\n",
       "      <td>7.9250</td>\n",
       "      <td>S</td>\n",
       "    </tr>\n",
       "    <tr>\n",
       "      <th>3</th>\n",
       "      <td>1</td>\n",
       "      <td>1</td>\n",
       "      <td>Futrelle, Mrs. Jacques Heath (Lily May Peel)</td>\n",
       "      <td>female</td>\n",
       "      <td>35.0</td>\n",
       "      <td>1</td>\n",
       "      <td>0</td>\n",
       "      <td>53.1000</td>\n",
       "      <td>S</td>\n",
       "    </tr>\n",
       "    <tr>\n",
       "      <th>4</th>\n",
       "      <td>0</td>\n",
       "      <td>3</td>\n",
       "      <td>Allen, Mr. William Henry</td>\n",
       "      <td>male</td>\n",
       "      <td>35.0</td>\n",
       "      <td>0</td>\n",
       "      <td>0</td>\n",
       "      <td>8.0500</td>\n",
       "      <td>S</td>\n",
       "    </tr>\n",
       "  </tbody>\n",
       "</table>\n",
       "</div>"
      ],
      "text/plain": [
       "   Sobreviveu?  Classe                                               Nome  \\\n",
       "0            0       3                            Braund, Mr. Owen Harris   \n",
       "1            1       1  Cumings, Mrs. John Bradley (Florence Briggs Th...   \n",
       "2            1       3                             Heikkinen, Miss. Laina   \n",
       "3            1       1       Futrelle, Mrs. Jacques Heath (Lily May Peel)   \n",
       "4            0       3                           Allen, Mr. William Henry   \n",
       "\n",
       "     Sexo  Idade  Irmãos/Cônjuge  Pais/Crianças   Tarifa Embarque  \n",
       "0    male   22.0               1              0   7.2500        S  \n",
       "1  female   38.0               1              0  71.2833        C  \n",
       "2  female   26.0               0              0   7.9250        S  \n",
       "3  female   35.0               1              0  53.1000        S  \n",
       "4    male   35.0               0              0   8.0500        S  "
      ]
     },
     "execution_count": 4,
     "metadata": {},
     "output_type": "execute_result"
    }
   ],
   "source": [
    "titanic.columns = ['Sobreviveu?','Classe','Nome','Sexo','Idade','Irmãos/Cônjuge','Pais/Crianças','Tarifa','Embarque']\n",
    "titanic.head()"
   ]
  },
  {
   "cell_type": "markdown",
   "metadata": {},
   "source": [
    "<h1>Dicionário de Dados:</h1>\n",
    "\n",
    "Com as colunas devidamente renomeadas para um melhor entendimento, é hora de explicarmos o que cada um desses dados significa. Acompanhe abaixo cada coluna com seu respectivo significado:\n",
    "\n",
    "<b>Sobreviveu?:</b> Informa se o passageiro sobreviveu ao desastre. 0 = Não; 1 = Sim<br>\n",
    "<b>Classe:</b> Classe na qual o passageiro viajou. 1 = Primeira Classe; 2 = Segunda Classe; 3 = Terceira Classe<br>\n",
    "<b>Nome:</b> Nome do passageiro<br>\n",
    "<b>Sexo:</b> Sexo do passageiro<br>\n",
    "<b>Idade:</b> Idade do passageiro<br>\n",
    "<b>Irmãos/Cônjuge:</b> Informa a quantidade de irmãos e cônjuges que o paciente possuía na embarcação<br>\n",
    "<b>Pais/Crianças:</b> Quantidade de crianças e idosos (pais) relativos ao passageiro<br>\n",
    "<b>Tarifa:</b> Valor da passagem<br>\n",
    "<b>Embarque:</b> Local onde o passageiro embarcou<br>"
   ]
  },
  {
   "cell_type": "markdown",
   "metadata": {},
   "source": [
    "Algumas considerações importantes sobre esses dados: a classe do passageiro era caracterizada pelo local em que sua cabine ficava na embarcação. A Primeira Classe ficava na parte superior do Titanic, enquanto a Segunda ficava ao meio e a Terceira, considerada a menor das classes, ficava ao fundo da embarcação.\n",
    "\n",
    "Você deve ter percebido que a idade do passageiro não é um número inteiro e isso é proposital. Passageiros que possuíam menos de um ano de vida tinham suas idades apresentadas em números decimais de acordo com os meses de vida, portanto, não irei alterar o tipo de dado desta tabela.\n",
    "\n",
    "O Titanic parou em três locais diferentes para que seus passegeiros pudessem embarcar: Cherbourg, Queenstown e Southampton, representados pelas letras C, Q e S no <i>dataset</i>, respectivamente. Mais a frente deixaremos essa informação mais clara."
   ]
  },
  {
   "cell_type": "markdown",
   "metadata": {},
   "source": [
    "Continuando nossa tratativa dos dados, irei renomear os nomes das cidades em que o Titanic aportou para melhor entendimento, assim como alterar os valores da coluna de sobrevivente e sexo."
   ]
  },
  {
   "cell_type": "code",
   "execution_count": 5,
   "metadata": {},
   "outputs": [
    {
     "data": {
      "text/html": [
       "<div>\n",
       "<table border=\"1\" class=\"dataframe\">\n",
       "  <thead>\n",
       "    <tr style=\"text-align: right;\">\n",
       "      <th></th>\n",
       "      <th>Sobreviveu?</th>\n",
       "      <th>Classe</th>\n",
       "      <th>Nome</th>\n",
       "      <th>Sexo</th>\n",
       "      <th>Idade</th>\n",
       "      <th>Irmãos/Cônjuge</th>\n",
       "      <th>Pais/Crianças</th>\n",
       "      <th>Tarifa</th>\n",
       "      <th>Embarque</th>\n",
       "    </tr>\n",
       "  </thead>\n",
       "  <tbody>\n",
       "    <tr>\n",
       "      <th>0</th>\n",
       "      <td>Não</td>\n",
       "      <td>3</td>\n",
       "      <td>Braund, Mr. Owen Harris</td>\n",
       "      <td>Masculino</td>\n",
       "      <td>22.0</td>\n",
       "      <td>1</td>\n",
       "      <td>0</td>\n",
       "      <td>7.2500</td>\n",
       "      <td>Southampton</td>\n",
       "    </tr>\n",
       "    <tr>\n",
       "      <th>1</th>\n",
       "      <td>Sim</td>\n",
       "      <td>1</td>\n",
       "      <td>Cumings, Mrs. John Bradley (Florence Briggs Th...</td>\n",
       "      <td>Feminino</td>\n",
       "      <td>38.0</td>\n",
       "      <td>1</td>\n",
       "      <td>0</td>\n",
       "      <td>71.2833</td>\n",
       "      <td>Cherbourg</td>\n",
       "    </tr>\n",
       "    <tr>\n",
       "      <th>2</th>\n",
       "      <td>Sim</td>\n",
       "      <td>3</td>\n",
       "      <td>Heikkinen, Miss. Laina</td>\n",
       "      <td>Feminino</td>\n",
       "      <td>26.0</td>\n",
       "      <td>0</td>\n",
       "      <td>0</td>\n",
       "      <td>7.9250</td>\n",
       "      <td>Southampton</td>\n",
       "    </tr>\n",
       "    <tr>\n",
       "      <th>3</th>\n",
       "      <td>Sim</td>\n",
       "      <td>1</td>\n",
       "      <td>Futrelle, Mrs. Jacques Heath (Lily May Peel)</td>\n",
       "      <td>Feminino</td>\n",
       "      <td>35.0</td>\n",
       "      <td>1</td>\n",
       "      <td>0</td>\n",
       "      <td>53.1000</td>\n",
       "      <td>Southampton</td>\n",
       "    </tr>\n",
       "    <tr>\n",
       "      <th>4</th>\n",
       "      <td>Não</td>\n",
       "      <td>3</td>\n",
       "      <td>Allen, Mr. William Henry</td>\n",
       "      <td>Masculino</td>\n",
       "      <td>35.0</td>\n",
       "      <td>0</td>\n",
       "      <td>0</td>\n",
       "      <td>8.0500</td>\n",
       "      <td>Southampton</td>\n",
       "    </tr>\n",
       "    <tr>\n",
       "      <th>5</th>\n",
       "      <td>Não</td>\n",
       "      <td>3</td>\n",
       "      <td>Moran, Mr. James</td>\n",
       "      <td>Masculino</td>\n",
       "      <td>NaN</td>\n",
       "      <td>0</td>\n",
       "      <td>0</td>\n",
       "      <td>8.4583</td>\n",
       "      <td>Queenstown</td>\n",
       "    </tr>\n",
       "  </tbody>\n",
       "</table>\n",
       "</div>"
      ],
      "text/plain": [
       "  Sobreviveu?  Classe                                               Nome  \\\n",
       "0         Não       3                            Braund, Mr. Owen Harris   \n",
       "1         Sim       1  Cumings, Mrs. John Bradley (Florence Briggs Th...   \n",
       "2         Sim       3                             Heikkinen, Miss. Laina   \n",
       "3         Sim       1       Futrelle, Mrs. Jacques Heath (Lily May Peel)   \n",
       "4         Não       3                           Allen, Mr. William Henry   \n",
       "5         Não       3                                   Moran, Mr. James   \n",
       "\n",
       "        Sexo  Idade  Irmãos/Cônjuge  Pais/Crianças   Tarifa     Embarque  \n",
       "0  Masculino   22.0               1              0   7.2500  Southampton  \n",
       "1   Feminino   38.0               1              0  71.2833    Cherbourg  \n",
       "2   Feminino   26.0               0              0   7.9250  Southampton  \n",
       "3   Feminino   35.0               1              0  53.1000  Southampton  \n",
       "4  Masculino   35.0               0              0   8.0500  Southampton  \n",
       "5  Masculino    NaN               0              0   8.4583   Queenstown  "
      ]
     },
     "execution_count": 5,
     "metadata": {},
     "output_type": "execute_result"
    }
   ],
   "source": [
    "titanic['Embarque'] = titanic['Embarque'].replace(['S','Q','C'],['Southampton','Queenstown','Cherbourg'])\n",
    "titanic['Sobreviveu?'] = titanic['Sobreviveu?'].replace([0,1],['Não','Sim'])\n",
    "titanic['Sexo'] = titanic['Sexo'].replace(['male','female'],['Masculino','Feminino'])\n",
    "\n",
    "titanic.head(6)"
   ]
  },
  {
   "cell_type": "markdown",
   "metadata": {},
   "source": [
    "Eu gostaria de saber como a linguagem Python está tratando estes dados, portanto, utilizarei o comando ```dtypes``` para tal."
   ]
  },
  {
   "cell_type": "code",
   "execution_count": 6,
   "metadata": {},
   "outputs": [
    {
     "data": {
      "text/plain": [
       "Sobreviveu?        object\n",
       "Classe              int64\n",
       "Nome               object\n",
       "Sexo               object\n",
       "Idade             float64\n",
       "Irmãos/Cônjuge      int64\n",
       "Pais/Crianças       int64\n",
       "Tarifa            float64\n",
       "Embarque           object\n",
       "dtype: object"
      ]
     },
     "execution_count": 6,
     "metadata": {},
     "output_type": "execute_result"
    }
   ],
   "source": [
    "#aparentemente está tudo em conformidade\n",
    "titanic.dtypes"
   ]
  },
  {
   "cell_type": "code",
   "execution_count": 7,
   "metadata": {},
   "outputs": [
    {
     "name": "stderr",
     "output_type": "stream",
     "text": [
      "C:\\Users\\usuario\\Anaconda3\\lib\\site-packages\\numpy\\lib\\function_base.py:3834: RuntimeWarning: Invalid value encountered in percentile\n",
      "  RuntimeWarning)\n"
     ]
    },
    {
     "data": {
      "text/html": [
       "<div>\n",
       "<table border=\"1\" class=\"dataframe\">\n",
       "  <thead>\n",
       "    <tr style=\"text-align: right;\">\n",
       "      <th></th>\n",
       "      <th>Classe</th>\n",
       "      <th>Idade</th>\n",
       "      <th>Irmãos/Cônjuge</th>\n",
       "      <th>Pais/Crianças</th>\n",
       "      <th>Tarifa</th>\n",
       "    </tr>\n",
       "  </thead>\n",
       "  <tbody>\n",
       "    <tr>\n",
       "      <th>count</th>\n",
       "      <td>891.000000</td>\n",
       "      <td>714.000000</td>\n",
       "      <td>891.000000</td>\n",
       "      <td>891.000000</td>\n",
       "      <td>891.000000</td>\n",
       "    </tr>\n",
       "    <tr>\n",
       "      <th>mean</th>\n",
       "      <td>2.308642</td>\n",
       "      <td>29.699118</td>\n",
       "      <td>0.523008</td>\n",
       "      <td>0.381594</td>\n",
       "      <td>32.204208</td>\n",
       "    </tr>\n",
       "    <tr>\n",
       "      <th>std</th>\n",
       "      <td>0.836071</td>\n",
       "      <td>14.526497</td>\n",
       "      <td>1.102743</td>\n",
       "      <td>0.806057</td>\n",
       "      <td>49.693429</td>\n",
       "    </tr>\n",
       "    <tr>\n",
       "      <th>min</th>\n",
       "      <td>1.000000</td>\n",
       "      <td>0.420000</td>\n",
       "      <td>0.000000</td>\n",
       "      <td>0.000000</td>\n",
       "      <td>0.000000</td>\n",
       "    </tr>\n",
       "    <tr>\n",
       "      <th>25%</th>\n",
       "      <td>2.000000</td>\n",
       "      <td>NaN</td>\n",
       "      <td>0.000000</td>\n",
       "      <td>0.000000</td>\n",
       "      <td>7.910400</td>\n",
       "    </tr>\n",
       "    <tr>\n",
       "      <th>50%</th>\n",
       "      <td>3.000000</td>\n",
       "      <td>NaN</td>\n",
       "      <td>0.000000</td>\n",
       "      <td>0.000000</td>\n",
       "      <td>14.454200</td>\n",
       "    </tr>\n",
       "    <tr>\n",
       "      <th>75%</th>\n",
       "      <td>3.000000</td>\n",
       "      <td>NaN</td>\n",
       "      <td>1.000000</td>\n",
       "      <td>0.000000</td>\n",
       "      <td>31.000000</td>\n",
       "    </tr>\n",
       "    <tr>\n",
       "      <th>max</th>\n",
       "      <td>3.000000</td>\n",
       "      <td>80.000000</td>\n",
       "      <td>8.000000</td>\n",
       "      <td>6.000000</td>\n",
       "      <td>512.329200</td>\n",
       "    </tr>\n",
       "  </tbody>\n",
       "</table>\n",
       "</div>"
      ],
      "text/plain": [
       "           Classe       Idade  Irmãos/Cônjuge  Pais/Crianças      Tarifa\n",
       "count  891.000000  714.000000      891.000000     891.000000  891.000000\n",
       "mean     2.308642   29.699118        0.523008       0.381594   32.204208\n",
       "std      0.836071   14.526497        1.102743       0.806057   49.693429\n",
       "min      1.000000    0.420000        0.000000       0.000000    0.000000\n",
       "25%      2.000000         NaN        0.000000       0.000000    7.910400\n",
       "50%      3.000000         NaN        0.000000       0.000000   14.454200\n",
       "75%      3.000000         NaN        1.000000       0.000000   31.000000\n",
       "max      3.000000   80.000000        8.000000       6.000000  512.329200"
      ]
     },
     "execution_count": 7,
     "metadata": {},
     "output_type": "execute_result"
    }
   ],
   "source": [
    "titanic.describe()"
   ]
  },
  {
   "cell_type": "markdown",
   "metadata": {},
   "source": [
    "A função ```describe``` permite saber rapidamente informações pertinentes nas colunas numericas do <i>dataset</i>. Por exemplo, verifique a linha \"max\", que informa os valores máximos encontrados em cada coluna. A maior faixa de idade presente no Titanic foram de pessoas com 80 anos. Há registros também de passageiro(s) que levaram consigo 8 pessoas, incluindo cônjuges e irmãos. Já quando falamos de pais e crianças, há registros de mais de 6 passageiros cadastrados para determinado(s) tripulantes.\n",
    "\n",
    "Vale também ressaltar que um dos passegeiros mais jovens do Titanic possuía apenas 4 meses, como podemos visualizar na linha \"min\", além de que houveram registros de passageiros que não tiveram sua tarifa cobrada/registrada, mas isso é momento para mais a frente neste estudo."
   ]
  },
  {
   "cell_type": "markdown",
   "metadata": {
    "collapsed": true
   },
   "source": [
    "<h2>Valores indevidos</h2>\n",
    "\n",
    "Sem dúvidas você percebeu a mensagem de erro em vermelho acima. Isso se deve ao fato de haver valores não numéricos (NaN) na coluna idade, e isso influencia no cálculo dos quartis e mediana (vide linhas \"25%\", \"50%\" e \"75%\").\n",
    "\n",
    "Existem diversas formas de tratarmos valores indevidos. Eu poderia remover as linhas onde há valores NaN, mas isso iria impactar negativamente mais a frente no estudo, onde cálculo a quantidade e proporção de sobreviventes. Eu poderia também remover toda a coluna ```Idade```, mas, além de remover os valores incorretos, eu também removeria os corretos. Para resolver esse problema, irei preencher os valores NaN com o dígito 0, pois não atrapalhará esse estudo quando realizamos cálculos, uma vez que a idade influencia pouco no resultado. Mais a frente, eu crio um gráfico com as faixas etárias presentes no Titanic, mas eu desconsiderarei linhas onde a idade é 0."
   ]
  },
  {
   "cell_type": "code",
   "execution_count": 8,
   "metadata": {},
   "outputs": [
    {
     "data": {
      "text/html": [
       "<div>\n",
       "<table border=\"1\" class=\"dataframe\">\n",
       "  <thead>\n",
       "    <tr style=\"text-align: right;\">\n",
       "      <th></th>\n",
       "      <th>Sobreviveu?</th>\n",
       "      <th>Classe</th>\n",
       "      <th>Nome</th>\n",
       "      <th>Sexo</th>\n",
       "      <th>Idade</th>\n",
       "      <th>Irmãos/Cônjuge</th>\n",
       "      <th>Pais/Crianças</th>\n",
       "      <th>Tarifa</th>\n",
       "      <th>Embarque</th>\n",
       "    </tr>\n",
       "  </thead>\n",
       "  <tbody>\n",
       "    <tr>\n",
       "      <th>0</th>\n",
       "      <td>Não</td>\n",
       "      <td>3</td>\n",
       "      <td>Braund, Mr. Owen Harris</td>\n",
       "      <td>Masculino</td>\n",
       "      <td>22.0</td>\n",
       "      <td>1</td>\n",
       "      <td>0</td>\n",
       "      <td>7.2500</td>\n",
       "      <td>Southampton</td>\n",
       "    </tr>\n",
       "    <tr>\n",
       "      <th>1</th>\n",
       "      <td>Sim</td>\n",
       "      <td>1</td>\n",
       "      <td>Cumings, Mrs. John Bradley (Florence Briggs Th...</td>\n",
       "      <td>Feminino</td>\n",
       "      <td>38.0</td>\n",
       "      <td>1</td>\n",
       "      <td>0</td>\n",
       "      <td>71.2833</td>\n",
       "      <td>Cherbourg</td>\n",
       "    </tr>\n",
       "    <tr>\n",
       "      <th>2</th>\n",
       "      <td>Sim</td>\n",
       "      <td>3</td>\n",
       "      <td>Heikkinen, Miss. Laina</td>\n",
       "      <td>Feminino</td>\n",
       "      <td>26.0</td>\n",
       "      <td>0</td>\n",
       "      <td>0</td>\n",
       "      <td>7.9250</td>\n",
       "      <td>Southampton</td>\n",
       "    </tr>\n",
       "    <tr>\n",
       "      <th>3</th>\n",
       "      <td>Sim</td>\n",
       "      <td>1</td>\n",
       "      <td>Futrelle, Mrs. Jacques Heath (Lily May Peel)</td>\n",
       "      <td>Feminino</td>\n",
       "      <td>35.0</td>\n",
       "      <td>1</td>\n",
       "      <td>0</td>\n",
       "      <td>53.1000</td>\n",
       "      <td>Southampton</td>\n",
       "    </tr>\n",
       "    <tr>\n",
       "      <th>4</th>\n",
       "      <td>Não</td>\n",
       "      <td>3</td>\n",
       "      <td>Allen, Mr. William Henry</td>\n",
       "      <td>Masculino</td>\n",
       "      <td>35.0</td>\n",
       "      <td>0</td>\n",
       "      <td>0</td>\n",
       "      <td>8.0500</td>\n",
       "      <td>Southampton</td>\n",
       "    </tr>\n",
       "    <tr>\n",
       "      <th>5</th>\n",
       "      <td>Não</td>\n",
       "      <td>3</td>\n",
       "      <td>Moran, Mr. James</td>\n",
       "      <td>Masculino</td>\n",
       "      <td>0.0</td>\n",
       "      <td>0</td>\n",
       "      <td>0</td>\n",
       "      <td>8.4583</td>\n",
       "      <td>Queenstown</td>\n",
       "    </tr>\n",
       "  </tbody>\n",
       "</table>\n",
       "</div>"
      ],
      "text/plain": [
       "  Sobreviveu?  Classe                                               Nome  \\\n",
       "0         Não       3                            Braund, Mr. Owen Harris   \n",
       "1         Sim       1  Cumings, Mrs. John Bradley (Florence Briggs Th...   \n",
       "2         Sim       3                             Heikkinen, Miss. Laina   \n",
       "3         Sim       1       Futrelle, Mrs. Jacques Heath (Lily May Peel)   \n",
       "4         Não       3                           Allen, Mr. William Henry   \n",
       "5         Não       3                                   Moran, Mr. James   \n",
       "\n",
       "        Sexo  Idade  Irmãos/Cônjuge  Pais/Crianças   Tarifa     Embarque  \n",
       "0  Masculino   22.0               1              0   7.2500  Southampton  \n",
       "1   Feminino   38.0               1              0  71.2833    Cherbourg  \n",
       "2   Feminino   26.0               0              0   7.9250  Southampton  \n",
       "3   Feminino   35.0               1              0  53.1000  Southampton  \n",
       "4  Masculino   35.0               0              0   8.0500  Southampton  \n",
       "5  Masculino    0.0               0              0   8.4583   Queenstown  "
      ]
     },
     "execution_count": 8,
     "metadata": {},
     "output_type": "execute_result"
    }
   ],
   "source": [
    "titanic['Idade'].fillna(0, inplace = True)\n",
    "titanic.head(6)"
   ]
  },
  {
   "cell_type": "code",
   "execution_count": 9,
   "metadata": {},
   "outputs": [
    {
     "data": {
      "text/html": [
       "<div>\n",
       "<table border=\"1\" class=\"dataframe\">\n",
       "  <thead>\n",
       "    <tr style=\"text-align: right;\">\n",
       "      <th></th>\n",
       "      <th>Classe</th>\n",
       "      <th>Idade</th>\n",
       "      <th>Irmãos/Cônjuge</th>\n",
       "      <th>Pais/Crianças</th>\n",
       "      <th>Tarifa</th>\n",
       "    </tr>\n",
       "  </thead>\n",
       "  <tbody>\n",
       "    <tr>\n",
       "      <th>count</th>\n",
       "      <td>891.000000</td>\n",
       "      <td>891.000000</td>\n",
       "      <td>891.000000</td>\n",
       "      <td>891.000000</td>\n",
       "      <td>891.000000</td>\n",
       "    </tr>\n",
       "    <tr>\n",
       "      <th>mean</th>\n",
       "      <td>2.308642</td>\n",
       "      <td>23.799293</td>\n",
       "      <td>0.523008</td>\n",
       "      <td>0.381594</td>\n",
       "      <td>32.204208</td>\n",
       "    </tr>\n",
       "    <tr>\n",
       "      <th>std</th>\n",
       "      <td>0.836071</td>\n",
       "      <td>17.596074</td>\n",
       "      <td>1.102743</td>\n",
       "      <td>0.806057</td>\n",
       "      <td>49.693429</td>\n",
       "    </tr>\n",
       "    <tr>\n",
       "      <th>min</th>\n",
       "      <td>1.000000</td>\n",
       "      <td>0.000000</td>\n",
       "      <td>0.000000</td>\n",
       "      <td>0.000000</td>\n",
       "      <td>0.000000</td>\n",
       "    </tr>\n",
       "    <tr>\n",
       "      <th>25%</th>\n",
       "      <td>2.000000</td>\n",
       "      <td>6.000000</td>\n",
       "      <td>0.000000</td>\n",
       "      <td>0.000000</td>\n",
       "      <td>7.910400</td>\n",
       "    </tr>\n",
       "    <tr>\n",
       "      <th>50%</th>\n",
       "      <td>3.000000</td>\n",
       "      <td>24.000000</td>\n",
       "      <td>0.000000</td>\n",
       "      <td>0.000000</td>\n",
       "      <td>14.454200</td>\n",
       "    </tr>\n",
       "    <tr>\n",
       "      <th>75%</th>\n",
       "      <td>3.000000</td>\n",
       "      <td>35.000000</td>\n",
       "      <td>1.000000</td>\n",
       "      <td>0.000000</td>\n",
       "      <td>31.000000</td>\n",
       "    </tr>\n",
       "    <tr>\n",
       "      <th>max</th>\n",
       "      <td>3.000000</td>\n",
       "      <td>80.000000</td>\n",
       "      <td>8.000000</td>\n",
       "      <td>6.000000</td>\n",
       "      <td>512.329200</td>\n",
       "    </tr>\n",
       "  </tbody>\n",
       "</table>\n",
       "</div>"
      ],
      "text/plain": [
       "           Classe       Idade  Irmãos/Cônjuge  Pais/Crianças      Tarifa\n",
       "count  891.000000  891.000000      891.000000     891.000000  891.000000\n",
       "mean     2.308642   23.799293        0.523008       0.381594   32.204208\n",
       "std      0.836071   17.596074        1.102743       0.806057   49.693429\n",
       "min      1.000000    0.000000        0.000000       0.000000    0.000000\n",
       "25%      2.000000    6.000000        0.000000       0.000000    7.910400\n",
       "50%      3.000000   24.000000        0.000000       0.000000   14.454200\n",
       "75%      3.000000   35.000000        1.000000       0.000000   31.000000\n",
       "max      3.000000   80.000000        8.000000       6.000000  512.329200"
      ]
     },
     "execution_count": 9,
     "metadata": {},
     "output_type": "execute_result"
    }
   ],
   "source": [
    "titanic.describe()"
   ]
  },
  {
   "cell_type": "markdown",
   "metadata": {},
   "source": [
    "Com sucesso, alteramos os valores indevidos e removemos os erros de cálculo de quartis."
   ]
  },
  {
   "cell_type": "markdown",
   "metadata": {},
   "source": [
    "<img src='./img/mid.jpg'></img>\n",
    "\n",
    "<h1>Data Visualization</h1>\n",
    "\n",
    "Vamos ao nosso primeiro questionamento:<br>\n",
    "<b>Quantas pessoas sobreviveram ao desastre, segundo este dataset. Quantas não sobreviveram?</b>"
   ]
  },
  {
   "cell_type": "code",
   "execution_count": 10,
   "metadata": {},
   "outputs": [],
   "source": [
    "#cores para serem usadas nos gráficos\n",
    "cores = [\n",
    "         ['#0D47A1','#1565C0','#1976D2','#1E88E5','#2196F3'],\n",
    "         ['#311B92','#512DA8','#673AB7','#9575CD','#B39DDB'],\n",
    "         ['#1B5E20','#388E3C','#4CAF50','#81C784','#66BB6A'],\n",
    "         ['#E65100','#EF6C00','#F57C00','#FB8C00','#FF9800'],\n",
    "         ['#3E2723','#4E342E','#5D4037','#6D4C41','#795548'],\n",
    "         ['#BF360C','#D84315','#E64A19','#F4511E','#FF5722'],\n",
    "         ['#880E4F','#AD1457','#C2185B','#D81B60','#E91E63']\n",
    "        ]"
   ]
  },
  {
   "cell_type": "code",
   "execution_count": 11,
   "metadata": {},
   "outputs": [
    {
     "data": {
      "image/png": "[encoded data removed]",
      "text/plain": [
       "<matplotlib.figure.Figure at 0xb2520f0>"
      ]
     },
     "metadata": {},
     "output_type": "display_data"
    }
   ],
   "source": [
    "#quantidades de sobreviventes e mortos na tragédia\n",
    "passageiros = sns.countplot(data=titanic, x='Sobreviveu?', hue='Sexo', palette='Reds_d')\n",
    "\n",
    "#posicionando valores acima das barras\n",
    "for p in passageiros.patches:\n",
    "    b=p.get_bbox()\n",
    "    passageiros.annotate(\"{:.0f}\".format(b.y1 + b.y0), ((b.x0 + b.x1)/2 - 0.03, b.y1 + 15))\n",
    "\n",
    "plt.title('QUANTIDADE DE SOBREVIVENTES/MORTOS\\n Total: %s passageiros' % (titanic.shape[0]))\n",
    "plt.xlabel('Sobreviveu?')\n",
    "plt.ylabel('Número de sobreviventes')\n",
    "plt.show()"
   ]
  },
  {
   "cell_type": "markdown",
   "metadata": {},
   "source": [
    "Acima nós conseguimos identificar a quantidade de passageiros que sobreviveram ou não ao desastre, divididos pelo sexo. Também seria interessante sabermos a proporção de sobreviventes por sexo, para entender um pouco a probabilidade de sobrevivência."
   ]
  },
  {
   "cell_type": "code",
   "execution_count": 12,
   "metadata": {},
   "outputs": [
    {
     "data": {
      "image/png": "[encoded data removed]",
      "text/plain": [
       "<matplotlib.figure.Figure at 0xb25c358>"
      ]
     },
     "metadata": {},
     "output_type": "display_data"
    }
   ],
   "source": [
    "#titanic.groupby('Sexo')['Sobreviveu?'].value_counts()\n",
    "\n",
    "sobreviventes_sexo = titanic.copy()\n",
    "sobreviventes_sexo['Sobreviveu?'] = titanic['Sobreviveu?'] == 'Sim'\n",
    "\n",
    "sns.violinplot(data=sobreviventes_sexo, y='Sobreviveu?', x='Sexo', size=10)\n",
    "\n",
    "plt.title('PROPORÇÃO DE SOBREVIVENTES POR SEXO')\n",
    "plt.show()"
   ]
  },
  {
   "cell_type": "markdown",
   "metadata": {},
   "source": [
    "A má notícia é que a maioria dos passageiros presentes no Titanic não sobreviveram ao desastre, sendo em sua maioria homens. Ainda seguindo essa linha de pensamento: sabemos que durante desastres e situações emergênciais, mulheres e crianças são os primeiros a serem evacuados. Seria interessante saber se a proporção de sobreviventes se deve apenas de mulheres e crianças. Vamos conferir:\n",
    "\n",
    "Vale lembrar que a maioridade na Inglaterra no século XX <a href='http://super.abril.com.br/historia/qual-a-idade-da-maioridade/'> - que persiste até hoje - é de 10 anos</a>. Contudo, darei uma margem de mais cinco anos para incluirmos passageiros estrangeiros e outras condições."
   ]
  },
  {
   "cell_type": "code",
   "execution_count": 13,
   "metadata": {},
   "outputs": [
    {
     "data": {
      "text/html": [
       "<div>\n",
       "<table border=\"1\" class=\"dataframe\">\n",
       "  <thead>\n",
       "    <tr style=\"text-align: right;\">\n",
       "      <th></th>\n",
       "      <th>Sobreviveu?</th>\n",
       "      <th>Classe</th>\n",
       "      <th>Nome</th>\n",
       "      <th>Sexo</th>\n",
       "      <th>Idade</th>\n",
       "      <th>Irmãos/Cônjuge</th>\n",
       "      <th>Pais/Crianças</th>\n",
       "      <th>Tarifa</th>\n",
       "      <th>Embarque</th>\n",
       "    </tr>\n",
       "  </thead>\n",
       "  <tbody>\n",
       "    <tr>\n",
       "      <th>1</th>\n",
       "      <td>Sim</td>\n",
       "      <td>1</td>\n",
       "      <td>Cumings, Mrs. John Bradley (Florence Briggs Th...</td>\n",
       "      <td>Feminino</td>\n",
       "      <td>38.0</td>\n",
       "      <td>1</td>\n",
       "      <td>0</td>\n",
       "      <td>71.2833</td>\n",
       "      <td>Cherbourg</td>\n",
       "    </tr>\n",
       "    <tr>\n",
       "      <th>2</th>\n",
       "      <td>Sim</td>\n",
       "      <td>3</td>\n",
       "      <td>Heikkinen, Miss. Laina</td>\n",
       "      <td>Feminino</td>\n",
       "      <td>26.0</td>\n",
       "      <td>0</td>\n",
       "      <td>0</td>\n",
       "      <td>7.9250</td>\n",
       "      <td>Southampton</td>\n",
       "    </tr>\n",
       "    <tr>\n",
       "      <th>3</th>\n",
       "      <td>Sim</td>\n",
       "      <td>1</td>\n",
       "      <td>Futrelle, Mrs. Jacques Heath (Lily May Peel)</td>\n",
       "      <td>Feminino</td>\n",
       "      <td>35.0</td>\n",
       "      <td>1</td>\n",
       "      <td>0</td>\n",
       "      <td>53.1000</td>\n",
       "      <td>Southampton</td>\n",
       "    </tr>\n",
       "    <tr>\n",
       "      <th>7</th>\n",
       "      <td>Não</td>\n",
       "      <td>3</td>\n",
       "      <td>Palsson, Master. Gosta Leonard</td>\n",
       "      <td>Masculino</td>\n",
       "      <td>2.0</td>\n",
       "      <td>3</td>\n",
       "      <td>1</td>\n",
       "      <td>21.0750</td>\n",
       "      <td>Southampton</td>\n",
       "    </tr>\n",
       "    <tr>\n",
       "      <th>8</th>\n",
       "      <td>Sim</td>\n",
       "      <td>3</td>\n",
       "      <td>Johnson, Mrs. Oscar W (Elisabeth Vilhelmina Berg)</td>\n",
       "      <td>Feminino</td>\n",
       "      <td>27.0</td>\n",
       "      <td>0</td>\n",
       "      <td>2</td>\n",
       "      <td>11.1333</td>\n",
       "      <td>Southampton</td>\n",
       "    </tr>\n",
       "  </tbody>\n",
       "</table>\n",
       "</div>"
      ],
      "text/plain": [
       "  Sobreviveu?  Classe                                               Nome  \\\n",
       "1         Sim       1  Cumings, Mrs. John Bradley (Florence Briggs Th...   \n",
       "2         Sim       3                             Heikkinen, Miss. Laina   \n",
       "3         Sim       1       Futrelle, Mrs. Jacques Heath (Lily May Peel)   \n",
       "7         Não       3                     Palsson, Master. Gosta Leonard   \n",
       "8         Sim       3  Johnson, Mrs. Oscar W (Elisabeth Vilhelmina Berg)   \n",
       "\n",
       "        Sexo  Idade  Irmãos/Cônjuge  Pais/Crianças   Tarifa     Embarque  \n",
       "1   Feminino   38.0               1              0  71.2833    Cherbourg  \n",
       "2   Feminino   26.0               0              0   7.9250  Southampton  \n",
       "3   Feminino   35.0               1              0  53.1000  Southampton  \n",
       "7  Masculino    2.0               3              1  21.0750  Southampton  \n",
       "8   Feminino   27.0               0              2  11.1333  Southampton  "
      ]
     },
     "execution_count": 13,
     "metadata": {},
     "output_type": "execute_result"
    }
   ],
   "source": [
    "#criando um DataFrame que contenha apenas mulheres e crianças\n",
    "prioritarios = (titanic['Idade'] <= 15) & (titanic['Idade'] > 0) | (titanic['Sexo'] == 'Feminino')\n",
    "prioritarios = titanic[prioritarios]\n",
    "prioritarios.head()"
   ]
  },
  {
   "cell_type": "code",
   "execution_count": 14,
   "metadata": {},
   "outputs": [
    {
     "data": {
      "image/png": "[encoded data removed]",
      "text/plain": [
       "<matplotlib.figure.Figure at 0xb8147b8>"
      ]
     },
     "metadata": {},
     "output_type": "display_data"
    }
   ],
   "source": [
    "#agrupando os dados de mulheres e crianças que sobreviveram a tragédia. Um gráfico é gerado a partir desses dados\n",
    "prioritarios.groupby('Sexo')['Sobreviveu?'].apply(lambda x: np.mean(x == 'Sim')).plot(kind='bar', color=random.choice(cores), alpha=.7, figsize=(11,5), rot=0, grid=True)\n",
    "\n",
    "plt.title('PROPORÇÃO DE CRIANÇAS E MULHERES SOBREVIVENTES\\n Total: %s passageiros' % (prioritarios.shape[0]))\n",
    "plt.ylabel('Proporção')\n",
    "plt.show()"
   ]
  },
  {
   "cell_type": "markdown",
   "metadata": {},
   "source": [
    "Através do gráfico acima, podemos ver que mais de 70% das mulheres (incluindo adultos e crianças) sobreviveram a tragédia. Já quando olhamos para os tripulantes masculinos, o número muda um pouco, onde apenas 52% das crianças do sexo masculino sobreviveram, ou seja, quase metade deles morreram no naufrágio. \n",
    "\n",
    "Esses dados me deixaram curioso: <b>será que o número de sobreviventes meninas foi muito maior que os sobreviventes meninos?</b>"
   ]
  },
  {
   "cell_type": "code",
   "execution_count": 15,
   "metadata": {},
   "outputs": [
    {
     "data": {
      "text/plain": [
       "Sexo\n",
       "Feminino     0.666667\n",
       "Masculino    0.525000\n",
       "Name: Sobreviveu?, dtype: float64"
      ]
     },
     "execution_count": 15,
     "metadata": {},
     "output_type": "execute_result"
    }
   ],
   "source": [
    "#proporção de sobreviventes meninos e meninas no Titanic\n",
    "prioritarios[prioritarios['Idade'] <= 15].groupby('Sexo')['Sobreviveu?'].apply(lambda x: np.mean(x == 'Sim'))"
   ]
  },
  {
   "cell_type": "markdown",
   "metadata": {},
   "source": [
    "Embora a diferença entre sobreviventes do sexo masculino e feminino terem sido grandes em um primeiro momento, tais valores são diminuídos quando tratamos apenas das crianças que estavam a bordo do transatlântico. Segundo o resultado gerado pelo código acima, 67% das crianças do sexo feminino sobreviveram ao desastre, uma diferença de 15% em relação as crianças do sexo masculino."
   ]
  },
  {
   "cell_type": "markdown",
   "metadata": {},
   "source": [
    "<h2>A sobrevivência do que paga mais</h2>\n",
    "\n",
    "Após identificarmos os passageiros masculinos e femininos e calcularmos a proporção de sobreviventes com base neste quesito, vamos analisar as classes em que os clientes estavam no Titanic. Será que aqueles que estavam em uma classe mais refinada tiveram maiores chances de sobrevivência do que quem estava na parte inferior do navio?\n",
    "\n",
    "Para responder a isso, vamos inicialmente verificar a proporção de sobrevivente para cada classe, realizando em seguida o cálculo da quantidade de sobreviventes destas mesmas classes."
   ]
  },
  {
   "cell_type": "code",
   "execution_count": 16,
   "metadata": {},
   "outputs": [
    {
     "data": {
      "image/png": "[encoded data removed]",
      "text/plain": [
       "<matplotlib.figure.Figure at 0xb50c080>"
      ]
     },
     "metadata": {},
     "output_type": "display_data"
    }
   ],
   "source": [
    "#agrupando a proporção de sobreviventes por classe e gerando um gráfico a partir do resultado\n",
    "sobreviventes_classe = titanic.copy()\n",
    "sobreviventes_classe['Sobreviveu?'] = titanic['Sobreviveu?'] == 'Sim'\n",
    "\n",
    "sns.barplot(data=sobreviventes_classe, y='Sobreviveu?', x='Classe')\n",
    "\n",
    "plt.title('PROPORÇÃO DE SOBREVIVENTES POR CLASSE')\n",
    "plt.ylabel('Proporção')\n",
    "plt.show()"
   ]
  },
  {
   "cell_type": "code",
   "execution_count": 17,
   "metadata": {},
   "outputs": [
    {
     "data": {
      "image/png": "[encoded data removed]",
      "text/plain": [
       "<matplotlib.figure.Figure at 0xb544ba8>"
      ]
     },
     "metadata": {},
     "output_type": "display_data"
    }
   ],
   "source": [
    "#filtrando o dataset para conter dados apenas de pessoas que sobreviveram\n",
    "classe_sobrevivente = titanic[titanic['Sobreviveu?'] == 'Sim']['Classe'].value_counts().sort_values(ascending=True)\n",
    "classe_sobrevivente.plot(kind='barh', figsize=(11,5), color=random.choice(cores), rot=0, grid=True)\n",
    "\n",
    "plt.title('QUANTIDADE DE SOBREVIVENTES POR CLASSE\\n Total: %s sobreviventes' % (classe_sobrevivente.sum()))\n",
    "plt.xlabel('QUANTIDADE DE SOBREVIVENTES')\n",
    "plt.ylabel('Classe')\n",
    "plt.show()"
   ]
  },
  {
   "cell_type": "markdown",
   "metadata": {},
   "source": [
    "Como era de se esperar, a primeira classe possui a maior quantidade de sobreviventes, visto que suas cabines situavam-se na parte superior do navio, local este próximo aos botes salva-vidas. Todavia, um fato interessante é que houveram mais sobreviventes na terceira classe do que na segunda (cerca de 40 sobreviventes a mais), o que impressiona devido a classe mais baixa ficar situada justamente na parte inferior do Titanic.\n",
    "\n",
    "O que explica o fato de haverem mais sobreviventes na classe 3 do que na classe 2, local onde, segundo nosso código acima, há quase 50% de chance de sobrevivência?\n",
    "\n",
    "A resposta é simples: a quantidade de passageiros na terceira classe é muito maior do que na segunda. O código abaixo, por exemplo, mostra a quantidade de passageiros que cada classe possui, incluindo sobreviventes ou não. Perceba que na classe 3 há mais que o dobro de passageiros em relação a segunda classe (491 e 184, respectivamente). A quantidade de sobreviventes que a classe mais baixa apresentou poderia nos enganar acerca da probabilidade de sobrevivência caso estivesse em um nível superior, porém, devemos frizar que mais de 75% dos tripulantes da terceira classe morreram, enquanto \"apenas\" 48% da segunda classe não sobreviveram."
   ]
  },
  {
   "cell_type": "code",
   "execution_count": 18,
   "metadata": {},
   "outputs": [
    {
     "data": {
      "text/plain": [
       "3    491\n",
       "1    216\n",
       "2    184\n",
       "Name: Classe, dtype: int64"
      ]
     },
     "execution_count": 18,
     "metadata": {},
     "output_type": "execute_result"
    }
   ],
   "source": [
    "#quantidade de passageiros (sobreviventes ou não) por classe\n",
    "titanic['Classe'].value_counts()"
   ]
  },
  {
   "cell_type": "markdown",
   "metadata": {},
   "source": [
    "<h2>Os \"passageiros gratuitos\"</h2>\n",
    "\n",
    "Nossos dois últimos questionamentos giram em torno das idades dos passageiros e os passageiros que não tiveram cobrança de suas passagens.\n",
    "\n",
    "Comecemos com as idades. Incluindo pessoas que sobreviveram ou não, quais foram as faixas de idade presentes nesta trágica viagem?"
   ]
  },
  {
   "cell_type": "code",
   "execution_count": 19,
   "metadata": {},
   "outputs": [
    {
     "data": {
      "image/png": "[encoded data removed]",
      "text/plain": [
       "<matplotlib.figure.Figure at 0xb9d3b70>"
      ]
     },
     "metadata": {},
     "output_type": "display_data"
    }
   ],
   "source": [
    "#agrupando passageiros por faixa etária\n",
    "idades = titanic[titanic['Idade'] > 0.0]['Idade'].astype(int).hist(bins=10, figsize=(11,5), color='red', alpha=.7)\n",
    "\n",
    "plt.title('FAIXAS ETÁRIA PRESENTES NO TITANIC\\n Total: %s passageiros' % (titanic.shape[0]))\n",
    "plt.xlabel('FAIXA DE IDADE')\n",
    "plt.ylabel('FREQUÊNCIA')\n",
    "plt.show()"
   ]
  },
  {
   "cell_type": "markdown",
   "metadata": {
    "collapsed": true
   },
   "source": [
    "Excluindo passageiros que não tiveram suas idades registradas (sinalizadas com o número \"0\"), a maioria dos passageiros presentes no Titanic tinham entre 18 e 32 anos de idade. A partir deste último, a frequência diminuia ao decorrer da faixa de idade.\n",
    "\n",
    "Por último, vamos identificar quem eram os passageiros que não tiveram sua passagem cobrada. Seriam eles parte da tripulação?"
   ]
  },
  {
   "cell_type": "code",
   "execution_count": 20,
   "metadata": {},
   "outputs": [
    {
     "data": {
      "text/html": [
       "<div>\n",
       "<table border=\"1\" class=\"dataframe\">\n",
       "  <thead>\n",
       "    <tr style=\"text-align: right;\">\n",
       "      <th></th>\n",
       "      <th>Sobreviveu?</th>\n",
       "      <th>Classe</th>\n",
       "      <th>Nome</th>\n",
       "      <th>Sexo</th>\n",
       "      <th>Idade</th>\n",
       "      <th>Irmãos/Cônjuge</th>\n",
       "      <th>Pais/Crianças</th>\n",
       "      <th>Tarifa</th>\n",
       "      <th>Embarque</th>\n",
       "    </tr>\n",
       "  </thead>\n",
       "  <tbody>\n",
       "    <tr>\n",
       "      <th>0</th>\n",
       "      <td>Não</td>\n",
       "      <td>3</td>\n",
       "      <td>Leonard, Mr. Lionel</td>\n",
       "      <td>Masculino</td>\n",
       "      <td>36.0</td>\n",
       "      <td>0</td>\n",
       "      <td>0</td>\n",
       "      <td>0.0</td>\n",
       "      <td>Southampton</td>\n",
       "    </tr>\n",
       "    <tr>\n",
       "      <th>1</th>\n",
       "      <td>Não</td>\n",
       "      <td>1</td>\n",
       "      <td>Harrison, Mr. William</td>\n",
       "      <td>Masculino</td>\n",
       "      <td>40.0</td>\n",
       "      <td>0</td>\n",
       "      <td>0</td>\n",
       "      <td>0.0</td>\n",
       "      <td>Southampton</td>\n",
       "    </tr>\n",
       "    <tr>\n",
       "      <th>2</th>\n",
       "      <td>Sim</td>\n",
       "      <td>3</td>\n",
       "      <td>Tornquist, Mr. William Henry</td>\n",
       "      <td>Masculino</td>\n",
       "      <td>25.0</td>\n",
       "      <td>0</td>\n",
       "      <td>0</td>\n",
       "      <td>0.0</td>\n",
       "      <td>Southampton</td>\n",
       "    </tr>\n",
       "    <tr>\n",
       "      <th>3</th>\n",
       "      <td>Não</td>\n",
       "      <td>2</td>\n",
       "      <td>Parkes, Mr. Francis \"Frank\"</td>\n",
       "      <td>Masculino</td>\n",
       "      <td>0.0</td>\n",
       "      <td>0</td>\n",
       "      <td>0</td>\n",
       "      <td>0.0</td>\n",
       "      <td>Southampton</td>\n",
       "    </tr>\n",
       "    <tr>\n",
       "      <th>4</th>\n",
       "      <td>Não</td>\n",
       "      <td>3</td>\n",
       "      <td>Johnson, Mr. William Cahoone Jr</td>\n",
       "      <td>Masculino</td>\n",
       "      <td>19.0</td>\n",
       "      <td>0</td>\n",
       "      <td>0</td>\n",
       "      <td>0.0</td>\n",
       "      <td>Southampton</td>\n",
       "    </tr>\n",
       "    <tr>\n",
       "      <th>5</th>\n",
       "      <td>Não</td>\n",
       "      <td>2</td>\n",
       "      <td>Cunningham, Mr. Alfred Fleming</td>\n",
       "      <td>Masculino</td>\n",
       "      <td>0.0</td>\n",
       "      <td>0</td>\n",
       "      <td>0</td>\n",
       "      <td>0.0</td>\n",
       "      <td>Southampton</td>\n",
       "    </tr>\n",
       "    <tr>\n",
       "      <th>6</th>\n",
       "      <td>Não</td>\n",
       "      <td>2</td>\n",
       "      <td>Campbell, Mr. William</td>\n",
       "      <td>Masculino</td>\n",
       "      <td>0.0</td>\n",
       "      <td>0</td>\n",
       "      <td>0</td>\n",
       "      <td>0.0</td>\n",
       "      <td>Southampton</td>\n",
       "    </tr>\n",
       "    <tr>\n",
       "      <th>7</th>\n",
       "      <td>Não</td>\n",
       "      <td>2</td>\n",
       "      <td>Frost, Mr. Anthony Wood \"Archie\"</td>\n",
       "      <td>Masculino</td>\n",
       "      <td>0.0</td>\n",
       "      <td>0</td>\n",
       "      <td>0</td>\n",
       "      <td>0.0</td>\n",
       "      <td>Southampton</td>\n",
       "    </tr>\n",
       "    <tr>\n",
       "      <th>8</th>\n",
       "      <td>Não</td>\n",
       "      <td>3</td>\n",
       "      <td>Johnson, Mr. Alfred</td>\n",
       "      <td>Masculino</td>\n",
       "      <td>49.0</td>\n",
       "      <td>0</td>\n",
       "      <td>0</td>\n",
       "      <td>0.0</td>\n",
       "      <td>Southampton</td>\n",
       "    </tr>\n",
       "    <tr>\n",
       "      <th>9</th>\n",
       "      <td>Não</td>\n",
       "      <td>1</td>\n",
       "      <td>Parr, Mr. William Henry Marsh</td>\n",
       "      <td>Masculino</td>\n",
       "      <td>0.0</td>\n",
       "      <td>0</td>\n",
       "      <td>0</td>\n",
       "      <td>0.0</td>\n",
       "      <td>Southampton</td>\n",
       "    </tr>\n",
       "    <tr>\n",
       "      <th>10</th>\n",
       "      <td>Não</td>\n",
       "      <td>2</td>\n",
       "      <td>Watson, Mr. Ennis Hastings</td>\n",
       "      <td>Masculino</td>\n",
       "      <td>0.0</td>\n",
       "      <td>0</td>\n",
       "      <td>0</td>\n",
       "      <td>0.0</td>\n",
       "      <td>Southampton</td>\n",
       "    </tr>\n",
       "    <tr>\n",
       "      <th>11</th>\n",
       "      <td>Não</td>\n",
       "      <td>2</td>\n",
       "      <td>Knight, Mr. Robert J</td>\n",
       "      <td>Masculino</td>\n",
       "      <td>0.0</td>\n",
       "      <td>0</td>\n",
       "      <td>0</td>\n",
       "      <td>0.0</td>\n",
       "      <td>Southampton</td>\n",
       "    </tr>\n",
       "    <tr>\n",
       "      <th>12</th>\n",
       "      <td>Não</td>\n",
       "      <td>1</td>\n",
       "      <td>Andrews, Mr. Thomas Jr</td>\n",
       "      <td>Masculino</td>\n",
       "      <td>39.0</td>\n",
       "      <td>0</td>\n",
       "      <td>0</td>\n",
       "      <td>0.0</td>\n",
       "      <td>Southampton</td>\n",
       "    </tr>\n",
       "    <tr>\n",
       "      <th>13</th>\n",
       "      <td>Não</td>\n",
       "      <td>1</td>\n",
       "      <td>Fry, Mr. Richard</td>\n",
       "      <td>Masculino</td>\n",
       "      <td>0.0</td>\n",
       "      <td>0</td>\n",
       "      <td>0</td>\n",
       "      <td>0.0</td>\n",
       "      <td>Southampton</td>\n",
       "    </tr>\n",
       "    <tr>\n",
       "      <th>14</th>\n",
       "      <td>Não</td>\n",
       "      <td>1</td>\n",
       "      <td>Reuchlin, Jonkheer. John George</td>\n",
       "      <td>Masculino</td>\n",
       "      <td>38.0</td>\n",
       "      <td>0</td>\n",
       "      <td>0</td>\n",
       "      <td>0.0</td>\n",
       "      <td>Southampton</td>\n",
       "    </tr>\n",
       "  </tbody>\n",
       "</table>\n",
       "</div>"
      ],
      "text/plain": [
       "   Sobreviveu?  Classe                              Nome       Sexo  Idade  \\\n",
       "0          Não       3               Leonard, Mr. Lionel  Masculino   36.0   \n",
       "1          Não       1             Harrison, Mr. William  Masculino   40.0   \n",
       "2          Sim       3      Tornquist, Mr. William Henry  Masculino   25.0   \n",
       "3          Não       2       Parkes, Mr. Francis \"Frank\"  Masculino    0.0   \n",
       "4          Não       3   Johnson, Mr. William Cahoone Jr  Masculino   19.0   \n",
       "5          Não       2    Cunningham, Mr. Alfred Fleming  Masculino    0.0   \n",
       "6          Não       2             Campbell, Mr. William  Masculino    0.0   \n",
       "7          Não       2  Frost, Mr. Anthony Wood \"Archie\"  Masculino    0.0   \n",
       "8          Não       3               Johnson, Mr. Alfred  Masculino   49.0   \n",
       "9          Não       1     Parr, Mr. William Henry Marsh  Masculino    0.0   \n",
       "10         Não       2        Watson, Mr. Ennis Hastings  Masculino    0.0   \n",
       "11         Não       2              Knight, Mr. Robert J  Masculino    0.0   \n",
       "12         Não       1            Andrews, Mr. Thomas Jr  Masculino   39.0   \n",
       "13         Não       1                  Fry, Mr. Richard  Masculino    0.0   \n",
       "14         Não       1   Reuchlin, Jonkheer. John George  Masculino   38.0   \n",
       "\n",
       "    Irmãos/Cônjuge  Pais/Crianças  Tarifa     Embarque  \n",
       "0                0              0     0.0  Southampton  \n",
       "1                0              0     0.0  Southampton  \n",
       "2                0              0     0.0  Southampton  \n",
       "3                0              0     0.0  Southampton  \n",
       "4                0              0     0.0  Southampton  \n",
       "5                0              0     0.0  Southampton  \n",
       "6                0              0     0.0  Southampton  \n",
       "7                0              0     0.0  Southampton  \n",
       "8                0              0     0.0  Southampton  \n",
       "9                0              0     0.0  Southampton  \n",
       "10               0              0     0.0  Southampton  \n",
       "11               0              0     0.0  Southampton  \n",
       "12               0              0     0.0  Southampton  \n",
       "13               0              0     0.0  Southampton  \n",
       "14               0              0     0.0  Southampton  "
      ]
     },
     "execution_count": 20,
     "metadata": {},
     "output_type": "execute_result"
    }
   ],
   "source": [
    "#passageiros que não tiveram sua passagem cobrada ou informada\n",
    "passagem_gratuita = titanic[titanic['Tarifa'] == 0].reset_index(drop=True)\n",
    "passagem_gratuita"
   ]
  },
  {
   "cell_type": "markdown",
   "metadata": {},
   "source": [
    "Dos 15 passageiros que não tiveram sua passagem cobrada (ou informada), apenas um sobreviveu. Realizando pesquisas a cerca dos nomes, percebi que muitos deles tratavam-se de tripulantes do Titanic, como <a href='https://www.geni.com/people/Lionel-Leonard/6000000016211210238'>Leonard, Mr. Lionel</a> e <a href='https://www.geni.com/people/William-Cahoone-Johnson-jr/6000000016207818906'>Johnson, Mr. William Cahoone Jr</a>, ambos marinheiros que morreram durante a tragédia. O único sobrevivente deste grupo também fazia parte da tripulação. <a href='https://www.geni.com/people/William-Henry-T%C3%B6rnquist/6000000015947610959'>Tornquist, Mr. William Henry</a> sobreviveu a tragédia quando tinha 25 anos e morreu apenas em 1946 (aos 60 anos de idade) de problemas cardíacos. Já os passageiros que tiveram gratuidade na viagem, como <a href='https://www.geni.com/people/William-Henry-Harrison/6000000016152065209'>Harrison, Mr. William</a> e <a href='https://www.geni.com/people/John-Richard-Fry/6000000016142357235'>Fry, Mr. Richard</a>, tratavam-se de membros que ou não tiveram suas passagens cobradas ou informadas."
   ]
  },
  {
   "cell_type": "markdown",
   "metadata": {},
   "source": [
    "<h1>Conclusão</h1>\n",
    "\n",
    "O Naufrágio do Titanic não foi a primeira nem será a última tragédia a ocorrer na história da humanidade. Assim como em outros eventos passados, tentamos nos reerguer novamente, aprendendo lições importantes e evitando que novos episódios surjam. Além de questões filosóficas acerca da fragilidade da vida ou da implacabilidade da natureza sobre o homem, o Naufrágio do Titanic nos mostra que não importa o quão grande algo possa ser, a queda e ruína podem chegar até mesmo aos gigantes.\n",
    "\n",
    "Através deste estudo, quis trazer ao conhecimento fatos acerca de uma das maiores tragédias da humanidade. Utilizei de muitas visualizações dos dados, a fim de deixar o entendimento mais claro e direto. É claro, como todos os estudos, este será sempre refinado. O fato de não incluir inferências estatísticas e aprofundar em questionamentos maiores utilizando uma amostra maior desses dados é algo que foge do escopo deste relatório, mas, este sempre estará disponível para novas ideias e ferramentas a serem implementadas.\n",
    "\n",
    "Os principais resultados que visualizamos aqui é a grande quantidade de pessoas que vieram a falecer devido ao desastre. Embora a sorte pareça ter sorrido para aqueles com maior poder aquisitivo (devido ao fato da primeira classe ter tido uma proporção maior de sobreviventes), houveram baixas em todas as classes, cores e gêneros."
   ]
  },
  {
   "cell_type": "markdown",
   "metadata": {},
   "source": [
    "<h1>Bibliografia</h1>\n",
    "\n",
    "¹Bingham, John (1999). The Loss of the Titanic, 1912 (Londres: The Stationery Office). p. 197. ISBN 978-0-11-702403-8\n",
    "https://pt.wikipedia.org/wiki/RMS_Titanic<br>\n",
    "https://pt.wikipedia.org/wiki/Conven%C3%A7%C3%A3o_Internacional_para_a_Salvaguarda_da_Vida_Humana_no_Mar<br>\n",
    "https://www.udacity.com/api/nodes/5420148578/supplemental_media/titanic-datacsv/download<br>\n",
    "http://super.abril.com.br/historia/qual-a-idade-da-maioridade/<br>\n",
    "https://www.geni.com/people/Lionel-Leonard/6000000016211210238<br>\n",
    "https://www.geni.com/people/William-Cahoone-Johnson-jr/6000000016207818906<br>\n",
    "https://www.geni.com/people/William-Henry-T%C3%B6rnquist/6000000015947610959<br>\n",
    "https://www.geni.com/people/William-Henry-Harrison/6000000016152065209<br>\n",
    "https://www.geni.com/people/John-Richard-Fry/6000000016142357235<br>"
   ]
  }
 ],
 "metadata": {
  "anaconda-cloud": {},
  "kernelspec": {
   "display_name": "Python 3",
   "language": "python",
   "name": "python3"
  },
  "language_info": {
   "codemirror_mode": {
    "name": "ipython",
    "version": 3
   },
   "file_extension": ".py",
   "mimetype": "text/x-python",
   "name": "python",
   "nbconvert_exporter": "python",
   "pygments_lexer": "ipython3",
   "version": "3.6.5"
  }
 },
 "nbformat": 4,
 "nbformat_minor": 1
}
